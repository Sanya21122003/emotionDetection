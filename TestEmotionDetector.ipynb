{
 "cells": [
  {
   "cell_type": "code",
   "execution_count": null,
   "id": "7d37b2dd",
   "metadata": {},
   "outputs": [
    {
     "name": "stdout",
     "output_type": "stream",
     "text": [
      "Loaded model from disk\n"
     ]
    }
   ],
   "source": [
    "import cv2 as cv\n",
    "import numpy as np\n",
    "from keras.models import model_from_json\n",
    "emotionDict={0:\"Angry\",1:\"Disgusted\",2:\"Fearful\",3:\"Happy\",4:\"Neutral\",5:\"Sad\",6:\"Surprised\"}\n",
    "jsonFile=open('model\\emotionModel.json','r')\n",
    "loadedModelJson=jsonFile.read()\n",
    "jsonFile.close()\n",
    "emotionModel=model_from_json(loadedModelJson)\n",
    "emotionModel.load_weights('model\\emotionModel.h5')\n",
    "print(\"Loaded model from disk\")\n",
    "# start webcam\n",
    "# cap=cv.VideoCapture(0)\n",
    "cap=cv.VideoCapture('sample2.mp4')\n",
    "while True:\n",
    "  ret,frame=cap.read()\n",
    "  resizedImg=cv.resize(frame,(700,900))\n",
    "  if not ret:\n",
    "    break\n",
    "  face_detector=cv.CascadeClassifier(\"haarcascades\\haarcascade_frontalface_default.xml\")\n",
    "  gray_frame=cv.cvtColor(resizedImg,cv.COLOR_BGR2GRAY)\n",
    "  # detect faces on camera\n",
    "  numFace=face_detector.detectMultiScale(gray_frame,scaleFactor=1.3,minNeighbors=5)\n",
    "  # take each face in camera and preprocess it\n",
    "  for (x,y,w,h) in numFace:\n",
    "    cv.rectangle(resizedImg,(x,y-50),(x+w,y+h+10),(0,255,0),4)\n",
    "    roiGrayFrame=gray_frame[y:y+h,x:x+w]\n",
    "    croppedImg=np.expand_dims(np.expand_dims(cv.resize(roiGrayFrame,(48,48)),-1),0)\n",
    "    # predict emotions\n",
    "    emotionPrediction=emotionModel.predict(croppedImg)\n",
    "    maxIndex=int(np.argmax(emotionPrediction))\n",
    "    cv.putText(resizedImg,emotionDict[maxIndex],(x+5,y-20),cv.FONT_HERSHEY_SIMPLEX,1,(255,0,0),2,cv.LINE_AA)\n",
    "  cv.imshow('Sample',resizedImg)\n",
    "  if cv.waitKey(1) & 0xFF==ord('q'):\n",
    "    break\n",
    "cap.release()\n",
    "cv.destroyAllWindows()"
   ]
  },
  {
   "cell_type": "code",
   "execution_count": null,
   "id": "6d1ae112",
   "metadata": {},
   "outputs": [],
   "source": []
  },
  {
   "cell_type": "code",
   "execution_count": null,
   "id": "9cbec972",
   "metadata": {},
   "outputs": [],
   "source": []
  }
 ],
 "metadata": {
  "kernelspec": {
   "display_name": "Python 3 (ipykernel)",
   "language": "python",
   "name": "python3"
  },
  "language_info": {
   "codemirror_mode": {
    "name": "ipython",
    "version": 3
   },
   "file_extension": ".py",
   "mimetype": "text/x-python",
   "name": "python",
   "nbconvert_exporter": "python",
   "pygments_lexer": "ipython3",
   "version": "3.9.13"
  }
 },
 "nbformat": 4,
 "nbformat_minor": 5
}
